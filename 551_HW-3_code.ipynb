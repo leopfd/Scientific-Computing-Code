{
 "cells": [
  {
   "cell_type": "code",
   "execution_count": 1,
   "id": "5eb2b54d-3680-4650-ad93-794f6a9e359b",
   "metadata": {},
   "outputs": [],
   "source": [
    "import numpy as np\n",
    "import math"
   ]
  },
  {
   "cell_type": "markdown",
   "id": "25a532c4-8bc2-4bde-97e0-fe17b18acd8b",
   "metadata": {},
   "source": [
    "#### Problem 2"
   ]
  },
  {
   "cell_type": "markdown",
   "id": "cf5e2631-27b6-48cf-886f-0f26a0f58e74",
   "metadata": {},
   "source": [
    "#### 1."
   ]
  },
  {
   "cell_type": "code",
   "execution_count": 2,
   "id": "9407853d-ff6c-49f2-8f25-6d3997a63754",
   "metadata": {},
   "outputs": [],
   "source": [
    "def p(x):\n",
    "    return x**2.+(9.**12.)*x-3."
   ]
  },
  {
   "cell_type": "code",
   "execution_count": 3,
   "id": "e991d87b-3a17-4b7c-a6e3-4a35c81dd14a",
   "metadata": {},
   "outputs": [
    {
     "name": "stdout",
     "output_type": "stream",
     "text": [
      "-3.0\n",
      "0.0\n"
     ]
    }
   ],
   "source": [
    "r = (-9.**12. + math.sqrt(9.**24.+12.))/2.\n",
    "r_approx = 6./((9.**12.)+math.sqrt((9.**12.)**2.+12.))\n",
    "print(p(r))\n",
    "print(p(r_approx))"
   ]
  },
  {
   "cell_type": "markdown",
   "id": "0ad2fb63-4d96-4c8a-936b-98ba0dbe4acb",
   "metadata": {},
   "source": [
    "#### 2."
   ]
  },
  {
   "cell_type": "code",
   "execution_count": 4,
   "id": "e75ab42e-4de5-4ac6-95f3-07a1fad4a8fd",
   "metadata": {},
   "outputs": [
    {
     "data": {
      "text/plain": [
       "1.062211848441645e-11"
      ]
     },
     "execution_count": 4,
     "metadata": {},
     "output_type": "execute_result"
    }
   ],
   "source": [
    "r_approx"
   ]
  },
  {
   "cell_type": "markdown",
   "id": "605d350f-8822-402f-bfc2-665c9bf24e05",
   "metadata": {},
   "source": [
    "#### 3."
   ]
  },
  {
   "cell_type": "code",
   "execution_count": 5,
   "id": "001f6d94-58fc-4210-8d50-6dfbd937b1c2",
   "metadata": {},
   "outputs": [
    {
     "data": {
      "text/plain": [
       "0.0"
      ]
     },
     "execution_count": 5,
     "metadata": {},
     "output_type": "execute_result"
    }
   ],
   "source": [
    "back_err = abs(p(r_approx))\n",
    "back_err"
   ]
  },
  {
   "cell_type": "markdown",
   "id": "b7e9a876-9960-426f-a9bc-70c91277706b",
   "metadata": {},
   "source": [
    "#### 5."
   ]
  },
  {
   "cell_type": "code",
   "execution_count": 6,
   "id": "64ec56a9-7ea4-4578-baaa-cef06851acf7",
   "metadata": {},
   "outputs": [
    {
     "data": {
      "text/plain": [
       "0.0"
      ]
     },
     "execution_count": 6,
     "metadata": {},
     "output_type": "execute_result"
    }
   ],
   "source": [
    "r"
   ]
  },
  {
   "cell_type": "markdown",
   "id": "6113a2ef-ba20-436d-b54f-2880a26abfff",
   "metadata": {},
   "source": [
    "#### Problem 3"
   ]
  },
  {
   "cell_type": "markdown",
   "id": "af541e17-b9eb-44e5-b2d8-b33dbf7894f0",
   "metadata": {},
   "source": [
    "#### 1."
   ]
  },
  {
   "cell_type": "code",
   "execution_count": 7,
   "id": "c51f6a74-da1d-466f-a5eb-360bf52aca06",
   "metadata": {},
   "outputs": [],
   "source": [
    "def p_exp(x):\n",
    "    x=float(x)\n",
    "    return x**20 - 210*x**19 + 20615*x**18 - 1256850*x**17 + 53327946*x**16 - 1672280820*x**15 + 40171771630*x**14 - \\\n",
    "    756111184500*x**13 + 11310276995381*x**12 - 135585182899530*x**11 + 1307535010540395*x**10 - \\\n",
    "    10142299865511450*x**9 + 63030812099294896*x**8 - 311333643161390640*x**7 + 1206647803780373360*x**6 - \\\n",
    "    3599979517947607200*x**5 + 8037811822645051776*x**4 - 12870931245150988800*x**3 + 13803759753640704000*x**2 - 8752948036761600000*x + 2432902008176640000"
   ]
  },
  {
   "cell_type": "code",
   "execution_count": 8,
   "id": "963790bf-3650-48ef-a9b5-31b83f6d216e",
   "metadata": {},
   "outputs": [
    {
     "data": {
      "text/plain": [
       "-6029312000.0"
      ]
     },
     "execution_count": 8,
     "metadata": {},
     "output_type": "execute_result"
    }
   ],
   "source": [
    "r = 16\n",
    "p_exp(16)"
   ]
  },
  {
   "cell_type": "markdown",
   "id": "b33c06e6-acec-4a34-8def-9966c8c97321",
   "metadata": {},
   "source": [
    "It's probably due to rounding errors and cancellations that floating point arithmetic introduces as the number starts to reach 64 bits."
   ]
  },
  {
   "cell_type": "markdown",
   "id": "b663cb4b-34ed-42d2-a5ac-4f3025320852",
   "metadata": {},
   "source": [
    "#### 2."
   ]
  },
  {
   "cell_type": "code",
   "execution_count": 9,
   "id": "566bd9a2-98f1-4488-b1a8-1f4d3731b98c",
   "metadata": {},
   "outputs": [],
   "source": [
    "def bisect_once(f,a,b):\n",
    "    if f(a) >= 0:\n",
    "        raise Exception(\"f(a) must be less than zero!\")\n",
    "    elif f(b) <= 0:\n",
    "        raise Exception(\"f(b) must be greater than zero!\")\n",
    "    if f((a+b)/2) < 0: \n",
    "        c = (a+b)/2\n",
    "        d=b\n",
    "        root = False \n",
    "    elif f((a+b)/2) >0:\n",
    "        c=a\n",
    "        d = (a+b)/2 \n",
    "        root = False\n",
    "    else:\n",
    "        c = (a+b)/2\n",
    "        d = (a+b)/2\n",
    "        root = True\n",
    "    return c,d,root"
   ]
  },
  {
   "cell_type": "code",
   "execution_count": 10,
   "id": "c1e8bf52-58c3-4ff4-ae3d-1733ad1cd3aa",
   "metadata": {},
   "outputs": [
    {
     "data": {
      "text/plain": [
       "(array([15.9       , 16.        , 16.        , 16.        , 16.        ,\n",
       "        16.        , 16.003125  , 16.003125  , 16.003125  , 16.003125  ,\n",
       "        16.00332031, 16.00332031, 16.00332031, 16.00332031, 16.00332031,\n",
       "        16.00332642, 16.00332642, 16.00332794, 16.00332794, 16.00332832,\n",
       "        16.00332832, 16.00332842, 16.00332847, 16.00332849, 16.00332849,\n",
       "        16.0033285 , 16.0033285 , 16.0033285 , 16.0033285 , 16.0033285 ,\n",
       "        16.0033285 , 16.0033285 , 16.0033285 , 16.0033285 , 16.0033285 ,\n",
       "        16.0033285 , 16.0033285 , 16.0033285 , 16.0033285 , 16.0033285 ,\n",
       "        16.0033285 , 16.0033285 , 16.0033285 , 16.0033285 , 16.0033285 ,\n",
       "        16.0033285 , 16.0033285 , 16.0033285 , 16.0033285 , 16.0033285 ]),\n",
       " array([16.1       , 16.1       , 16.05      , 16.025     , 16.0125    ,\n",
       "        16.00625   , 16.00625   , 16.0046875 , 16.00390625, 16.00351562,\n",
       "        16.00351562, 16.00341797, 16.00336914, 16.00334473, 16.00333252,\n",
       "        16.00333252, 16.00332947, 16.00332947, 16.0033287 , 16.0033287 ,\n",
       "        16.00332851, 16.00332851, 16.00332851, 16.00332851, 16.0033285 ,\n",
       "        16.0033285 , 16.0033285 , 16.0033285 , 16.0033285 , 16.0033285 ,\n",
       "        16.0033285 , 16.0033285 , 16.0033285 , 16.0033285 , 16.0033285 ,\n",
       "        16.0033285 , 16.0033285 , 16.0033285 , 16.0033285 , 16.0033285 ,\n",
       "        16.0033285 , 16.0033285 , 16.0033285 , 16.0033285 , 16.0033285 ,\n",
       "        16.0033285 , 16.0033285 , 16.0033285 , 16.0033285 , 16.0033285 ]))"
      ]
     },
     "execution_count": 10,
     "metadata": {},
     "output_type": "execute_result"
    }
   ],
   "source": [
    "N=50\n",
    "a0=15.9\n",
    "b0=16.1\n",
    "avals=np.zeros(N)\n",
    "bvals=np.zeros(N)\n",
    "avals[0]=a0\n",
    "bvals[0]=b0\n",
    "for n in range(1,N):\n",
    "    avals[n],bvals[n],root=bisect_once(p_exp,avals[n-1],bvals[n-1])\n",
    "    if root:\n",
    "        break\n",
    "avals, bvals"
   ]
  },
  {
   "cell_type": "code",
   "execution_count": 11,
   "id": "a7b2eb03-63cc-4f81-b2c0-ad9ed79354f4",
   "metadata": {},
   "outputs": [
    {
     "name": "stdout",
     "output_type": "stream",
     "text": [
      "Forward Error: 0.0033284982507311156\n",
      "Backward Error: 6029312000.0\n"
     ]
    }
   ],
   "source": [
    "fwd_err = abs(avals[-1]-r)\n",
    "back_err = abs(p_exp(r))\n",
    "print('Forward Error:', fwd_err)\n",
    "print('Backward Error:', back_err)"
   ]
  },
  {
   "cell_type": "markdown",
   "id": "ca1429f4-7c17-4e41-bdb0-429cfb6f1ef0",
   "metadata": {},
   "source": [
    "#### 3."
   ]
  },
  {
   "cell_type": "code",
   "execution_count": 12,
   "id": "18f5f606-b0ff-4242-8c33-46031c0eaacb",
   "metadata": {},
   "outputs": [],
   "source": [
    "def p(x):\n",
    "    y = 1\n",
    "    for i in range(1,21):\n",
    "        y *= (x-i)\n",
    "    return y"
   ]
  },
  {
   "cell_type": "code",
   "execution_count": 13,
   "id": "808cba52-3be1-48b2-8fe5-47bc48c4092c",
   "metadata": {},
   "outputs": [
    {
     "data": {
      "text/plain": [
       "(array([15.9, 16. ,  0. ,  0. ,  0. ,  0. ,  0. ,  0. ,  0. ,  0. ,  0. ,\n",
       "         0. ,  0. ,  0. ,  0. ,  0. ,  0. ,  0. ,  0. ,  0. ,  0. ,  0. ,\n",
       "         0. ,  0. ,  0. ,  0. ,  0. ,  0. ,  0. ,  0. ,  0. ,  0. ,  0. ,\n",
       "         0. ,  0. ,  0. ,  0. ,  0. ,  0. ,  0. ,  0. ,  0. ,  0. ,  0. ,\n",
       "         0. ,  0. ,  0. ,  0. ,  0. ,  0. ]),\n",
       " array([16.1, 16. ,  0. ,  0. ,  0. ,  0. ,  0. ,  0. ,  0. ,  0. ,  0. ,\n",
       "         0. ,  0. ,  0. ,  0. ,  0. ,  0. ,  0. ,  0. ,  0. ,  0. ,  0. ,\n",
       "         0. ,  0. ,  0. ,  0. ,  0. ,  0. ,  0. ,  0. ,  0. ,  0. ,  0. ,\n",
       "         0. ,  0. ,  0. ,  0. ,  0. ,  0. ,  0. ,  0. ,  0. ,  0. ,  0. ,\n",
       "         0. ,  0. ,  0. ,  0. ,  0. ,  0. ]))"
      ]
     },
     "execution_count": 13,
     "metadata": {},
     "output_type": "execute_result"
    }
   ],
   "source": [
    "N=50\n",
    "a0=15.9\n",
    "b0=16.1\n",
    "avals=np.zeros(N)\n",
    "bvals=np.zeros(N)\n",
    "avals[0]=a0\n",
    "bvals[0]=b0\n",
    "for n in range(1,N):\n",
    "    avals[n],bvals[n],root=bisect_once(p,avals[n-1],bvals[n-1])\n",
    "    if root:\n",
    "        break\n",
    "avals, bvals"
   ]
  },
  {
   "cell_type": "code",
   "execution_count": 14,
   "id": "40d41d02-265a-40b9-aaac-f1f2493d4ceb",
   "metadata": {},
   "outputs": [
    {
     "name": "stdout",
     "output_type": "stream",
     "text": [
      "Forward Error: 0.0\n"
     ]
    }
   ],
   "source": [
    "fwd_err = abs(next((x for x in reversed(avals) if x != 0), 0) - r)\n",
    "print('Forward Error:', fwd_err)"
   ]
  }
 ],
 "metadata": {
  "kernelspec": {
   "display_name": "Python 3 (ipykernel)",
   "language": "python",
   "name": "python3"
  },
  "language_info": {
   "codemirror_mode": {
    "name": "ipython",
    "version": 3
   },
   "file_extension": ".py",
   "mimetype": "text/x-python",
   "name": "python",
   "nbconvert_exporter": "python",
   "pygments_lexer": "ipython3",
   "version": "3.11.5"
  }
 },
 "nbformat": 4,
 "nbformat_minor": 5
}
