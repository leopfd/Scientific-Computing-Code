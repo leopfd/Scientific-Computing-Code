{
 "cells": [
  {
   "cell_type": "code",
   "execution_count": 1,
   "id": "3ac92605-3125-4dfb-bc18-12fe2b7ddf98",
   "metadata": {},
   "outputs": [],
   "source": [
    "import numpy as np\n",
    "import matplotlib.pyplot as plt\n",
    "from scipy.sparse import dok_matrix, csr_matrix"
   ]
  },
  {
   "cell_type": "markdown",
   "id": "bbd5b44a-c980-4185-87fa-4746a59e589f",
   "metadata": {},
   "source": [
    "### Problem 3"
   ]
  },
  {
   "cell_type": "markdown",
   "id": "39376e3d-9156-40a2-bd17-142b39fee593",
   "metadata": {},
   "source": [
    "#### 3.2"
   ]
  },
  {
   "cell_type": "code",
   "execution_count": 2,
   "id": "e7002c4b-8cbb-4366-961d-80fbb4dd73c7",
   "metadata": {},
   "outputs": [
    {
     "data": {
      "image/png": "[encoded data removed]",
      "text/plain": [
       "<Figure size 640x480 with 1 Axes>"
      ]
     },
     "metadata": {},
     "output_type": "display_data"
    }
   ],
   "source": [
    "k = 1\n",
    "n = 100\n",
    "\n",
    "l = np.arange(1, n+1)\n",
    "\n",
    "lambda_values = 2 * k * (1 - np.cos(l * np.pi / n))\n",
    "\n",
    "plt.plot(l, lambda_values, c='b')\n",
    "plt.xlabel('$\\ell$')\n",
    "plt.ylabel('λ$_{\\ell}$')\n",
    "plt.title('Plot of λ$_{\\ell}$ = 2k(1 − cos($\\ell$π/n))')\n",
    "plt.grid(True)\n",
    "plt.show()\n"
   ]
  },
  {
   "cell_type": "markdown",
   "id": "d449d21c-cdb7-4fb6-9e6e-c6d6813cef3b",
   "metadata": {},
   "source": [
    "### Problem 4"
   ]
  },
  {
   "cell_type": "markdown",
   "id": "87562829-0e59-40b8-9cd8-49ec03697957",
   "metadata": {},
   "source": [
    "#### 4.1"
   ]
  },
  {
   "cell_type": "code",
   "execution_count": 3,
   "id": "ab8c95a6-6bbf-46e0-904e-9c2ca3f69488",
   "metadata": {},
   "outputs": [],
   "source": [
    "def spring_matrix(k):\n",
    "    n = len(k)\n",
    "    \n",
    "    #zero array of shape (n-1,n-1)\n",
    "    A=dok_matrix((n-1,n-1))\n",
    "    \n",
    "    #zero'th row\n",
    "    A[0,0]= k[0] + k[1]\n",
    "    A[0,1]= -k[1]\n",
    "    \n",
    "    #rows 1 to n-3\n",
    "    for i in range(1,n-2):\n",
    "        A[i,i-1]= -k[i]\n",
    "        A[i,i]= k[i] + k[i+1]\n",
    "        A[i,i+1]= -k[i+1]\n",
    "        \n",
    "    #row n-1\n",
    "    A[-1,-2]= -k[-2]\n",
    "    A[-1,-1]= k[-2] + k[-1]\n",
    "    \n",
    "    return csr_matrix(A)"
   ]
  },
  {
   "cell_type": "code",
   "execution_count": 4,
   "id": "6b7d384c-4b16-4d2b-adc0-3512dbccaf49",
   "metadata": {},
   "outputs": [
    {
     "data": {
      "text/plain": [
       "matrix([[ 2., -1.,  0.,  0.,  0.],\n",
       "        [-1.,  2., -1.,  0.,  0.],\n",
       "        [ 0., -1.,  2., -1.,  0.],\n",
       "        [ 0.,  0., -1.,  2., -1.],\n",
       "        [ 0.,  0.,  0., -1.,  2.]])"
      ]
     },
     "execution_count": 4,
     "metadata": {},
     "output_type": "execute_result"
    }
   ],
   "source": [
    "M = spring_matrix(np.array([1,1,1,1,1,1]))\n",
    "M.todense()"
   ]
  },
  {
   "cell_type": "code",
   "execution_count": 5,
   "id": "00a98a41-9b44-4f53-87f8-c19fd7b14b9c",
   "metadata": {},
   "outputs": [
    {
     "data": {
      "text/plain": [
       "matrix([[19., -9.,  0.,  0.,  0.,  0.],\n",
       "        [-9., 17., -8.,  0.,  0.,  0.],\n",
       "        [ 0., -8., 15., -7.,  0.,  0.],\n",
       "        [ 0.,  0., -7., 13., -6.,  0.],\n",
       "        [ 0.,  0.,  0., -6., 11., -5.],\n",
       "        [ 0.,  0.,  0.,  0., -5.,  9.]])"
      ]
     },
     "execution_count": 5,
     "metadata": {},
     "output_type": "execute_result"
    }
   ],
   "source": [
    "M = spring_matrix(np.array([10,9,8,7,6,5,4]))\n",
    "M.todense()"
   ]
  },
  {
   "cell_type": "code",
   "execution_count": 6,
   "id": "e8c0df4e-c882-492d-8e83-0dcf16df8835",
   "metadata": {},
   "outputs": [
    {
     "data": {
      "text/plain": [
       "matrix([[ 8., -4.,  0.,  0.,  0.,  0.],\n",
       "        [-4.,  8., -4.,  0.,  0.,  0.],\n",
       "        [ 0., -4.,  8., -4.,  0.,  0.],\n",
       "        [ 0.,  0., -4.,  8., -4.,  0.],\n",
       "        [ 0.,  0.,  0., -4.,  8., -4.],\n",
       "        [ 0.,  0.,  0.,  0., -4.,  8.]])"
      ]
     },
     "execution_count": 6,
     "metadata": {},
     "output_type": "execute_result"
    }
   ],
   "source": [
    "M = spring_matrix(np.array([4,4,4,4,4,4,4]))\n",
    "M.todense()"
   ]
  },
  {
   "cell_type": "markdown",
   "id": "5c561b0b-cba3-43a1-a1c2-0f457a4524c6",
   "metadata": {},
   "source": [
    "#### 4.2"
   ]
  },
  {
   "cell_type": "code",
   "execution_count": 7,
   "id": "8f5da6a7-f9be-4eb1-b406-fb720a8e4cb3",
   "metadata": {},
   "outputs": [],
   "source": [
    "def spring_vector(F, k, r):\n",
    "    n = len(k)\n",
    "    b = np.zeros(n-1)\n",
    "    \n",
    "    #set entries 0 to n-3 \n",
    "    for i in range(1,n-2) :\n",
    "        b[i] = F[i] + k[i] * r[i] - k[i+1] * r[i+1]\n",
    "    \n",
    "    #set entry n-2\n",
    "    b[-1] = F[-1] + k[-1] + k[-2] * r[-2] - k[-1]* r[-1]\n",
    "    return b"
   ]
  },
  {
   "cell_type": "code",
   "execution_count": 8,
   "id": "17b08d4d-dcc7-4137-abaa-78bd33092e0d",
   "metadata": {},
   "outputs": [
    {
     "name": "stdout",
     "output_type": "stream",
     "text": [
      "[0. 1. 1. 2.]\n",
      "[0. 2. 3. 6.]\n"
     ]
    }
   ],
   "source": [
    "b1 = spring_vector([1,1,1,1], [1,1,1,1,1], [5,5,5,5,5])\n",
    "print(b1)\n",
    "b2 = spring_vector([2,3,2,3], [1,1,1,1,1], [2,4,5,4,2])\n",
    "print(b2)"
   ]
  },
  {
   "cell_type": "markdown",
   "id": "b608f600-fafc-42fd-8f35-4aad57241d93",
   "metadata": {},
   "source": [
    "#### 4.3"
   ]
  },
  {
   "cell_type": "code",
   "execution_count": 9,
   "id": "61611680-bd05-4b4f-a135-b58dc651b10d",
   "metadata": {},
   "outputs": [
    {
     "data": {
      "text/plain": [
       "24"
      ]
     },
     "execution_count": 9,
     "metadata": {},
     "output_type": "execute_result"
    }
   ],
   "source": [
    "def infinity_norm(matrix):\n",
    "    row_sums = np.sum(np.abs(matrix), axis=1)  # Compute the sum of absolute values for each row\n",
    "    max_row_sum = np.max(row_sums)  # Find the maximum sum of absolute values\n",
    "    return max_row_sum\n",
    "\n",
    "#test\n",
    "matrix = np.array([[1, 2, 3],\n",
    "                   [-4, 5, 6],\n",
    "                   [7, -8, 9]])\n",
    "\n",
    "infinity_norm(matrix)"
   ]
  },
  {
   "cell_type": "markdown",
   "id": "a8579b8c-d28c-42bb-8db9-916ae528647f",
   "metadata": {},
   "source": [
    "#### 4.4"
   ]
  },
  {
   "cell_type": "code",
   "execution_count": 29,
   "id": "bf3fd9b9-2416-4e39-925e-08bf230b2f9d",
   "metadata": {},
   "outputs": [
    {
     "data": {
      "image/png": "[encoded data removed]",
      "text/plain": [
       "<Figure size 640x480 with 1 Axes>"
      ]
     },
     "metadata": {},
     "output_type": "display_data"
    }
   ],
   "source": [
    "n = 16\n",
    "r = np.full(n, 1/16)\n",
    "k = np.ones(n)\n",
    "\n",
    "condition_numbers = []\n",
    "\n",
    "for k_exp in range(11):\n",
    "    k4 = k12 = 2.**(-k_exp)\n",
    "    k[4] = k4\n",
    "    k[12] = k12\n",
    "    A = spring_matrix(k).todense()\n",
    "    inv_A = np.linalg.inv(A)\n",
    "    condition_numbers.append(infinity_norm(A) * infinity_norm(inv_A)) \n",
    "    \n",
    "plt.scatter(2.**(-np.arange(11)), np.log(condition_numbers), c='b')\n",
    "plt.xlabel('$2^{-k}$')\n",
    "plt.ylabel('log($\\infty$-norm condition number)')\n",
    "plt.title('Condition Number vs $2^{-k}$ for $k_4 = k_{12}$')\n",
    "plt.grid(True)\n",
    "plt.show()"
   ]
  },
  {
   "cell_type": "markdown",
   "id": "e863ad26-bdde-4fd4-88ee-6a713a7713e3",
   "metadata": {},
   "source": [
    "### Problem 7"
   ]
  },
  {
   "cell_type": "code",
   "execution_count": 11,
   "id": "57760215-7e3f-4f25-b20e-51231d6b386f",
   "metadata": {},
   "outputs": [],
   "source": [
    "def csr_matrix_vector_product(NC, V, C, R, v):\n",
    "    Mv = np.zeros(len(R) - 1)\n",
    "    for i in range(len(R) - 1):\n",
    "        start = R[i]\n",
    "        end = R[i + 1]\n",
    "        for j in range(start, end):\n",
    "            Mv[i] += V[j] * v[C[j]]\n",
    "    return Mv\n",
    "\n",
    "def standard_matrix_vector_product(matrix, vector):\n",
    "    return np.dot(matrix, vector)"
   ]
  },
  {
   "cell_type": "code",
   "execution_count": 12,
   "id": "84eb0bbe-d627-48b0-8b39-b8cccb4b9b1b",
   "metadata": {},
   "outputs": [
    {
     "name": "stdout",
     "output_type": "stream",
     "text": [
      "Example 1 (Standard method): [ 5.  6. 19.]\n",
      "Example 1 (CSR method): [ 5.  6. 19.]\n",
      "Example 2 (Standard method): [14. 47. 67.]\n",
      "Example 2 (CSR method): [14. 47. 67.]\n",
      "Example 3 (Standard method): [ 7.  6. 13.]\n",
      "Example 3 (CSR method): [ 7.  6. 13.]\n"
     ]
    }
   ],
   "source": [
    "# Example 1\n",
    "NC = 3\n",
    "V = [2, 1, 3, 4, 5]\n",
    "C = [0, 2, 1, 0, 2]\n",
    "R = [0, 2, 3, 5]\n",
    "v = np.array([1, 2, 3])\n",
    "\n",
    "M = np.zeros((len(R) - 1, NC))\n",
    "for i in range(len(R) - 1):\n",
    "    start = R[i]\n",
    "    end = R[i + 1]\n",
    "    for j in range(start, end):\n",
    "        M[i, C[j]] = V[j]\n",
    "\n",
    "result_standard = standard_matrix_vector_product(M, v)\n",
    "\n",
    "result_csr = csr_matrix_vector_product(NC, V, C, R, v)\n",
    "\n",
    "print(\"Example 1 (Standard method):\", result_standard)\n",
    "print(\"Example 1 (CSR method):\", result_csr)\n",
    "\n",
    "# Example 2\n",
    "NC = 4\n",
    "V = [1, 2, 3, 4, 5, 6, 7, 8, 9]\n",
    "C = [0, 1, 2, 1, 2, 3, 0, 2, 3]\n",
    "R = [0, 3, 6, 9]\n",
    "v = np.array([1, 2, 3, 4])\n",
    "\n",
    "M = np.zeros((len(R) - 1, NC))\n",
    "for i in range(len(R) - 1):\n",
    "    start = R[i]\n",
    "    end = R[i + 1]\n",
    "    for j in range(start, end):\n",
    "        M[i, C[j]] = V[j]\n",
    "\n",
    "result_standard = standard_matrix_vector_product(M, v)\n",
    "\n",
    "result_csr = csr_matrix_vector_product(NC, V, C, R, v)\n",
    "\n",
    "print(\"Example 2 (Standard method):\", result_standard)\n",
    "print(\"Example 2 (CSR method):\", result_csr)\n",
    "\n",
    "# Example 3\n",
    "NC = 3\n",
    "V = [3, 1, 2, 4, 5]\n",
    "C = [0, 2, 1, 0, 2]\n",
    "R = [0, 2, 3, 5]\n",
    "v = np.array([2, 3, 1])\n",
    "\n",
    "M = np.zeros((len(R) - 1, NC))\n",
    "for i in range(len(R) - 1):\n",
    "    start = R[i]\n",
    "    end = R[i + 1]\n",
    "    for j in range(start, end):\n",
    "        M[i, C[j]] = V[j]\n",
    "\n",
    "result_standard = standard_matrix_vector_product(M, v)\n",
    "\n",
    "result_csr = csr_matrix_vector_product(NC, V, C, R, v)\n",
    "\n",
    "print(\"Example 3 (Standard method):\", result_standard)\n",
    "print(\"Example 3 (CSR method):\", result_csr)"
   ]
  }
 ],
 "metadata": {
  "kernelspec": {
   "display_name": "Python 3 (ipykernel)",
   "language": "python",
   "name": "python3"
  },
  "language_info": {
   "codemirror_mode": {
    "name": "ipython",
    "version": 3
   },
   "file_extension": ".py",
   "mimetype": "text/x-python",
   "name": "python",
   "nbconvert_exporter": "python",
   "pygments_lexer": "ipython3",
   "version": "3.11.5"
  }
 },
 "nbformat": 4,
 "nbformat_minor": 5
}
