{
 "cells": [
  {
   "cell_type": "code",
   "execution_count": 1,
   "id": "d36dcb39-5594-4d07-9826-c3480b8c39e0",
   "metadata": {},
   "outputs": [],
   "source": [
    "import numpy as np\n",
    "from scipy.linalg import solve_triangular"
   ]
  },
  {
   "cell_type": "markdown",
   "id": "e828021c-cbc9-4a0e-af17-aedc266c19e4",
   "metadata": {},
   "source": [
    "### Problem 1."
   ]
  },
  {
   "cell_type": "markdown",
   "id": "02775913-8c44-402d-80c3-90c62396ddb5",
   "metadata": {},
   "source": [
    "#### 1)"
   ]
  },
  {
   "cell_type": "code",
   "execution_count": 2,
   "id": "a22b9c58-fc50-4b17-91ff-92cd5940c68c",
   "metadata": {},
   "outputs": [],
   "source": [
    "def fake_regression():\n",
    "    N=100\n",
    "    k=14\n",
    "    t=np.linspace(0,1,N,endpoint=True)\n",
    "    X=np.zeros((N,k+1))\n",
    "    for i in range(k+1):\n",
    "       X[:,i]=t**i\n",
    "    y=np.exp(np.sin(4*t))\n",
    "    y=y/2006.787453080206\n",
    "    return X,y\n"
   ]
  },
  {
   "cell_type": "code",
   "execution_count": 3,
   "id": "2c92e989-fc4c-470c-b7a7-f77c81e2fef5",
   "metadata": {},
   "outputs": [
    {
     "name": "stdout",
     "output_type": "stream",
     "text": [
      "Value of B_15: 0.9999998602104042\n"
     ]
    }
   ],
   "source": [
    "X, y = fake_regression()\n",
    "Q, R = np.linalg.qr(X, mode='reduced')\n",
    "B_hat = solve_triangular(R, np.dot(Q.T, y), lower=False)\n",
    "\n",
    "B_15 = B_hat[14]\n",
    "print(\"Value of B_15:\", B_15)"
   ]
  },
  {
   "cell_type": "markdown",
   "id": "3b51221b-ebba-4989-a253-89a789d80059",
   "metadata": {},
   "source": [
    "### Problem 2."
   ]
  },
  {
   "cell_type": "markdown",
   "id": "1f1510eb-36f4-43d4-8c07-af081cac2578",
   "metadata": {},
   "source": [
    "##### 1."
   ]
  },
  {
   "cell_type": "code",
   "execution_count": 4,
   "id": "cb777d9c-c439-4f77-a670-02ed14aa0189",
   "metadata": {},
   "outputs": [
    {
     "name": "stdout",
     "output_type": "stream",
     "text": [
      "Value of B_15: -3.866499029408487\n"
     ]
    }
   ],
   "source": [
    "X, y = fake_regression()\n",
    "XtX = np.dot(X.T, X)\n",
    "Q, R = np.linalg.qr(XtX)\n",
    "B_hat = solve_triangular(R, np.dot(Q.T, np.dot(X.T, y)), lower=False)\n",
    "\n",
    "B_15 = B_hat[14]\n",
    "print(\"Value of B_15:\", B_15)"
   ]
  },
  {
   "cell_type": "markdown",
   "id": "668e9404-b087-40a4-ab7c-f240195d1228",
   "metadata": {},
   "source": [
    "##### 2."
   ]
  },
  {
   "cell_type": "code",
   "execution_count": 5,
   "id": "43495004-03ed-47b2-91c1-dd6200fb34d6",
   "metadata": {},
   "outputs": [
    {
     "name": "stdout",
     "output_type": "stream",
     "text": [
      "∞-norm condition number of XtX: 9.184491482748408e+18\n"
     ]
    }
   ],
   "source": [
    "def infinity_norm(matrix):\n",
    "    row_sums = np.sum(np.abs(matrix), axis=1)\n",
    "    max_row_sum = np.max(row_sums)\n",
    "    return max_row_sum\n",
    "\n",
    "def condition_number_comp(A):\n",
    "    infinity_norm_inv = infinity_norm(np.linalg.inv(A))\n",
    "    condition_number = infinity_norm(A) * infinity_norm_inv\n",
    "    return condition_number\n",
    "\n",
    "XtX = np.dot(X.T, X)\n",
    "condition_number = condition_number_comp(XtX)\n",
    "print(\"∞-norm condition number of XtX:\", condition_number)"
   ]
  },
  {
   "cell_type": "markdown",
   "id": "fc721b57-a145-4ebc-b558-cd70920f8f59",
   "metadata": {},
   "source": [
    "##### 3. "
   ]
  },
  {
   "cell_type": "code",
   "execution_count": 6,
   "id": "944c8f1e-5a42-43c7-915f-5365027aa073",
   "metadata": {},
   "outputs": [
    {
     "name": "stdout",
     "output_type": "stream",
     "text": [
      "Estimated error: 2039.3667827241852\n",
      "Actual error: 4.866499029408487\n"
     ]
    }
   ],
   "source": [
    "X, y = fake_regression()\n",
    "XtX = X.T@X\n",
    "condition_number = condition_number_comp(XtX)\n",
    "Q, R = np.linalg.qr(XtX)\n",
    "B_hat = solve_triangular(R, np.dot(Q.T, np.dot(X.T, y)), lower=False)\n",
    "eps = np.finfo(float).eps\n",
    "estimated_error = condition_number * eps\n",
    "actual_error = np.abs(1 - B_hat[14])\n",
    "print(\"Estimated error:\", estimated_error)\n",
    "print(\"Actual error:\", actual_error)"
   ]
  },
  {
   "cell_type": "code",
   "execution_count": null,
   "id": "6c794e16-ccd0-4fd3-9247-bed2899e6394",
   "metadata": {},
   "outputs": [],
   "source": []
  }
 ],
 "metadata": {
  "kernelspec": {
   "display_name": "Python 3 (ipykernel)",
   "language": "python",
   "name": "python3"
  },
  "language_info": {
   "codemirror_mode": {
    "name": "ipython",
    "version": 3
   },
   "file_extension": ".py",
   "mimetype": "text/x-python",
   "name": "python",
   "nbconvert_exporter": "python",
   "pygments_lexer": "ipython3",
   "version": "3.11.5"
  }
 },
 "nbformat": 4,
 "nbformat_minor": 5
}
